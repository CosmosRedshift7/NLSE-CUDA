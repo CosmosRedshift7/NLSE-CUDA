{
  "nbformat": 4,
  "nbformat_minor": 0,
  "metadata": {
    "colab": {
      "name": "NLSE.ipynb",
      "provenance": [],
      "collapsed_sections": []
    },
    "kernelspec": {
      "display_name": "Python 3",
      "name": "python3"
    },
    "language_info": {
      "name": "python"
    },
    "accelerator": "GPU"
  },
  "cells": [
    {
      "cell_type": "markdown",
      "metadata": {
        "id": "FlgZUDFaCWOB"
      },
      "source": [
        "# Solution of the nonlinear Schrödinger equation using cuFFT\n",
        "\n",
        "High Performance Computing and Modern Architectures course  \n",
        "Final project\n",
        "Ilya Kuk\n",
        "\n",
        "## NLSE\n",
        "\n",
        "Pulse propagation  in optical fiber links for moderate values of  power and spectral width of the pulse with high accuracy\n",
        "governed by nonlinear Schrödinger equation\n",
        "$$\n",
        "iE_z + \\frac{1}{2} E_{tt}+ \\varepsilon |E|^2 E=0\n",
        "$$\n",
        "\n",
        "where $E=E(t,z)$ is dimensionless amplitude of the electric field, $t$ and $z$ are dimensionless retarded  time and distance, $\\varepsilon$ is dimensionless coefficient of nonlinearity."
      ]
    },
    {
      "cell_type": "code",
      "metadata": {
        "id": "L6Zk62v9_bP8"
      },
      "source": [
        "!gdown --id 18FDlMjJ0Vn4dVf-brkfDC7uCuZgi4wPF\n",
        "!unzip NLSE.zip\n",
        "!cd NLSE/; mv * ..\n",
        "!rm -r NLSE\n",
        "!rm -r NLSE.zip"
      ],
      "execution_count": null,
      "outputs": []
    },
    {
      "cell_type": "code",
      "metadata": {
        "id": "FRAJC5s5-0W_"
      },
      "source": [
        "!nvidia-smi"
      ],
      "execution_count": null,
      "outputs": []
    },
    {
      "cell_type": "code",
      "metadata": {
        "id": "N7SxeuMQ10xN"
      },
      "source": [
        "!make"
      ],
      "execution_count": null,
      "outputs": []
    },
    {
      "cell_type": "code",
      "metadata": {
        "id": "SAL_mQAl14uD"
      },
      "source": [
        "# 1 seq_len\n",
        "# 2 dim_t\n",
        "# 3 dispersion\n",
        "# 4 nonlinearity\n",
        "# 5 pulse_width\n",
        "# 6 z_end\n",
        "# 7 z_step\n",
        "\n",
        "!./NLSE.exe 8 8192 0.5 0.05 10 100 0.1"
      ],
      "execution_count": null,
      "outputs": []
    },
    {
      "cell_type": "code",
      "metadata": {
        "id": "Ewjt5kkK4K__"
      },
      "source": [
        "import numpy as np\n",
        "import plotly.express as px\n",
        "import plotly.graph_objects as go"
      ],
      "execution_count": 5,
      "outputs": []
    },
    {
      "cell_type": "code",
      "metadata": {
        "id": "mJcRfJi6DTVN"
      },
      "source": [
        "input = np.loadtxt(\"results/input.txt\")\n",
        "inputS = np.loadtxt(\"results/input_spectr.txt\")\n",
        "output = np.loadtxt(\"results/output.txt\")\n",
        "outputS = np.loadtxt(\"results/output_spectr.txt\")\n",
        "output_back = np.loadtxt(\"results/output_back.txt\")\n",
        "output_backS = np.loadtxt(\"results/output_back_spectr.txt\")\n",
        "\n",
        "t = np.loadtxt(\"results/time.txt\")\n",
        "w = np.loadtxt(\"results/freq.txt\")\n",
        "\n",
        "E_start = input[::2] + 1j*input[1::2]\n",
        "E_startS = inputS[::2] + 1j*inputS[1::2]\n",
        "E_end = output[::2] + 1j*output[1::2]\n",
        "E_endS = outputS[::2] + 1j*outputS[1::2]\n",
        "E_back = output_back[::2] + 1j*output_back[1::2]\n",
        "E_backS = output_backS[::2] + 1j*output_backS[1::2]"
      ],
      "execution_count": 6,
      "outputs": []
    },
    {
      "cell_type": "code",
      "metadata": {
        "id": "mLbmSqipDkb0"
      },
      "source": [
        "I_start = np.abs(E_start*np.conj(E_start))\n",
        "I_startS = np.abs(E_startS*np.conj(E_startS))\n",
        "I_end = np.abs(E_end*np.conj(E_end))\n",
        "I_endS = np.abs(E_endS*np.conj(E_endS))\n",
        "I_back = np.abs(E_back*np.conj(E_back))\n",
        "I_backS = np.abs(E_backS*np.conj(E_backS))\n",
        "\n",
        "W_start = np.trapz(I_start, t)\n",
        "W_end = np.trapz(I_end, t)\n",
        "W_back = np.trapz(I_back, t)"
      ],
      "execution_count": 7,
      "outputs": []
    },
    {
      "cell_type": "markdown",
      "metadata": {
        "id": "rFE_w0l2nB1P"
      },
      "source": [
        "## Input and back propagated signal intensity"
      ]
    },
    {
      "cell_type": "code",
      "metadata": {
        "id": "bFyrmR0WDysC"
      },
      "source": [
        "fig = go.Figure()\n",
        "\n",
        "fig.add_trace(go.Scatter(x=t, y=I_start,\n",
        "                    mode='lines',\n",
        "                    name='Input'))\n",
        "\n",
        "fig.add_trace(go.Scatter(x=t, y=I_back,\n",
        "                    mode='lines',\n",
        "                    name='Back'))\n",
        "\n",
        "fig.update_layout(title_text=\"Signal intensity\")\n",
        "fig.update_xaxes(title_text=\"Time\")\n",
        "fig.update_yaxes(title_text=\"Intensity\")\n",
        "\n",
        "fig.show()\n",
        "print(\"Energy input = %.2f\" % W_start)\n",
        "print(\"Energy back = %.2f\" % W_back)"
      ],
      "execution_count": null,
      "outputs": []
    },
    {
      "cell_type": "markdown",
      "metadata": {
        "id": "o_5UVAXTnQ3k"
      },
      "source": [
        "## Output signal intensity"
      ]
    },
    {
      "cell_type": "code",
      "metadata": {
        "id": "aWH9Ny7hEoU5"
      },
      "source": [
        "fig = px.line(x=t, y=I_end,\n",
        "              title='Output signal intensity',\n",
        "              labels={'x':'Intensity', 'y':'Time'})\n",
        "\n",
        "fig.show()\n",
        "print(\"Energy output = %.2f\" % W_end)"
      ],
      "execution_count": null,
      "outputs": []
    },
    {
      "cell_type": "markdown",
      "metadata": {
        "id": "zbwZLo6YnYSc"
      },
      "source": [
        "## Spectrum"
      ]
    },
    {
      "cell_type": "code",
      "metadata": {
        "id": "vrxJeLXSZSCq"
      },
      "source": [
        "fig = go.Figure()\n",
        "\n",
        "fig.add_trace(go.Scatter(x=w, y=I_startS,\n",
        "                    mode='lines',\n",
        "                    name='Input'))\n",
        "\n",
        "fig.add_trace(go.Scatter(x=w, y=I_endS,\n",
        "                    mode='lines',\n",
        "                    name='Output'))\n",
        "\n",
        "fig.add_trace(go.Scatter(x=w, y=I_backS,\n",
        "                    mode='lines',\n",
        "                    name='Back'))\n",
        "\n",
        "fig.update_layout(yaxis_type=\"log\")\n",
        "fig.update_layout(title_text=\"Spectrum intensity\")\n",
        "fig.update_xaxes(title_text=\"Frequency\")\n",
        "fig.update_yaxes(title_text=\"Intensity (log scale)\")\n",
        "\n",
        "fig.show()"
      ],
      "execution_count": null,
      "outputs": []
    },
    {
      "cell_type": "code",
      "metadata": {
        "id": "r2JQW6AqsnqY"
      },
      "source": [
        ""
      ],
      "execution_count": 10,
      "outputs": []
    }
  ]
}